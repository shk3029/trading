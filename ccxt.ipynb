{
 "cells": [
  {
   "cell_type": "code",
   "execution_count": 50,
   "id": "32caa2d7",
   "metadata": {},
   "outputs": [],
   "source": [
    "#!pip install ccxt\n",
    "#!pip install finance-datareader\n",
    "#!pip install tabulate"
   ]
  },
  {
   "cell_type": "code",
   "execution_count": 100,
   "id": "00f15eb1",
   "metadata": {},
   "outputs": [],
   "source": [
    "import FinanceDataReader as fdr\n",
    "import ccxt\n",
    "import pandas as pd\n",
    "from tabulate import tabulate\n",
    "\n",
    "def print_df(df):\n",
    "    print(tabulate(df, headers='keys', tablefmt='psql'))"
   ]
  },
  {
   "cell_type": "code",
   "execution_count": 119,
   "id": "9f4a563c",
   "metadata": {},
   "outputs": [
    {
     "name": "stdout",
     "output_type": "stream",
     "text": [
      "+---------------------+------------+\n",
      "| Date                |   환율종가 |\n",
      "|---------------------+------------|\n",
      "| 2022-07-01 00:00:00 |    1298.67 |\n",
      "| 2022-07-04 00:00:00 |    1295.87 |\n",
      "| 2022-07-05 00:00:00 |    1308.95 |\n",
      "| 2022-07-06 00:00:00 |    1304.79 |\n",
      "| 2022-07-07 00:00:00 |    1297.62 |\n",
      "| 2022-07-08 00:00:00 |    1294.68 |\n",
      "| 2022-07-11 00:00:00 |    1310.81 |\n",
      "| 2022-07-12 00:00:00 |    1305.21 |\n",
      "| 2022-07-13 00:00:00 |    1304.73 |\n",
      "| 2022-07-14 00:00:00 |    1316.41 |\n",
      "| 2022-07-15 00:00:00 |    1317.74 |\n",
      "| 2022-07-18 00:00:00 |    1318.3  |\n",
      "| 2022-07-19 00:00:00 |    1305.12 |\n",
      "| 2022-07-20 00:00:00 |    1313.1  |\n",
      "| 2022-07-21 00:00:00 |    1306.16 |\n",
      "| 2022-07-22 00:00:00 |    1310.01 |\n",
      "| 2022-07-25 00:00:00 |    1311.12 |\n",
      "| 2022-07-26 00:00:00 |    1310.1  |\n",
      "| 2022-07-27 00:00:00 |    1306.08 |\n",
      "| 2022-07-28 00:00:00 |    1295.47 |\n",
      "| 2022-07-29 00:00:00 |    1302.97 |\n",
      "| 2022-08-01 00:00:00 |    1307.33 |\n",
      "| 2022-08-02 00:00:00 |    1311.82 |\n",
      "| 2022-08-03 00:00:00 |    1307.82 |\n",
      "| 2022-08-04 00:00:00 |    1310.88 |\n",
      "+---------------------+------------+\n"
     ]
    }
   ],
   "source": [
    "from datetime import datetime\n",
    "\n",
    "def to_mstimestamp(str):\n",
    "    str = datetime.strptime(str, \"%Y-%m-%d\")\n",
    "    str = datetime.timestamp(str)\n",
    "    str = int(str) * 1000\n",
    "    return str\n",
    "\n",
    "start_date = to_mstimestamp('2022-07-01')\n",
    "\n",
    "ftx = ccxt.ftx()\n",
    "ohlvs = ftx.fetch_ohlcv('BTC/USDT', timeframe='1d', since=start_date)\n",
    "usdt_ohlvs = ftx.fetch_ohlcv('USDT/USD', timeframe='1d', since=start_date)\n",
    "\n",
    "currency = fdr.DataReader('USD/KRW', '2022-07')\n",
    "\n",
    "df = pd.DataFrame(columns=['Market','Coin','Date','Open','High','Low','Close[USDT]','Close[USD]','Volume'])\n",
    "\n",
    "\n",
    "for (i,j) in zip(ohlvs,usdt_ohlvs):\n",
    "    #print(datetime.fromtimestamp(ohlc[0]/1000).strftime('%Y-%m-%d %H:%M:%S'), ohlc[1:]) \n",
    "    date,open,high,low,close,volume = (datetime.fromtimestamp(i[0]/1000).strftime('%Y-%m-%d'), \n",
    "                                       i[1],i[2],i[3],i[4],i[5])\n",
    "    usdt_open,usdt_high,usdt_low,usdt_close, usdt_volume = (j[1],j[2],j[3],j[4],j[5])\n",
    "    row = ['FTX', 'BTC/USDT',date,open,high,low,close,close*usdt_close,volume]\n",
    "    df_2 = pd.DataFrame([row], columns=['Market','Coin','Date','Open','High','Low','Close[USDT]','Close[USD]','Volume'])\n",
    "    df = df.append(df_2, ignore_index=True)\n",
    "\n",
    "usd_price_df = currency[['Close']]\n",
    "usd_price_df = usd_price_df.rename(columns={'Close' : '환율종가'})\n",
    "print_df(usd_price_df)\n",
    "#pd.concat(df, usd_price, keys=['Date'])"
   ]
  },
  {
   "cell_type": "code",
   "execution_count": null,
   "id": "56d7726b",
   "metadata": {},
   "outputs": [],
   "source": [
    "ftx = ccxt.ftx()\n",
    "coinPairs = ['BTC/USDT', 'SOL/USDT', 'ETH/USDT', 'TRX/USDT']\n",
    "for pair in coinPairs:\n",
    "    ticker = ftx.fetch_tickers()[pair]\n",
    "    #print(ticker)\n",
    "    #print(ticker['open'],ticker['high'],ticker['low'],ticker['close'])\n",
    "\n"
   ]
  },
  {
   "cell_type": "code",
   "execution_count": null,
   "id": "21a49e40",
   "metadata": {},
   "outputs": [],
   "source": [
    "\n",
    "FTX_COIN_KRW = FTX_COIN['price'] * FTX_USDT['price'] * USD_KRW\n",
    "UPBIT_COIN_KRW = UPBIT_COIN['trade_price'] \n",
    "\n",
    "if FTX_COIN_KRW < UPBIT_COIN_KRW:\n",
    "    data = {\n",
    "        \"date\" : date,\n",
    "        \"time\" : time,\n",
    "        \"coin\" : coin_name,\n",
    "        \"upbit_price\" : UPBIT_COIN_KRW, \n",
    "        \"ftx_price\" : FTX_COIN_KRW,\n",
    "        \"spread\" : (UPBIT_COIN_KRW/ FTX_COIN_KRW -1) * 100\n",
    "    }\n",
    "    collection = get_mongo_collection(mongo_db, mongo_collection)\n",
    "    insertOne(collection,data)\n",
    "\n"
   ]
  },
  {
   "cell_type": "code",
   "execution_count": 84,
   "id": "7c2a9189",
   "metadata": {},
   "outputs": [
    {
     "name": "stdout",
     "output_type": "stream",
     "text": [
      "              Close     Open     High      Low  Change\n",
      "Date                                                  \n",
      "2022-07-01  1298.67  1288.05  1302.81  1287.80  0.0087\n",
      "2022-07-04  1295.87  1298.92  1300.16  1292.05 -0.0022\n",
      "2022-07-05  1308.95  1296.06  1315.57  1293.68  0.0101\n",
      "2022-07-06  1304.79  1309.09  1311.02  1302.81 -0.0032\n",
      "2022-07-07  1297.62  1305.14  1308.74  1295.90 -0.0055\n",
      "2022-07-08  1294.68  1297.97  1303.68  1292.29 -0.0023\n",
      "2022-07-11  1310.81  1294.79  1314.39  1294.62  0.0125\n",
      "2022-07-12  1305.21  1311.16  1316.73  1305.01 -0.0043\n",
      "2022-07-13  1304.73  1306.45  1310.83  1301.75 -0.0004\n",
      "2022-07-14  1316.41  1305.10  1327.31  1303.55  0.0090\n",
      "2022-07-15  1317.74  1317.57  1329.58  1316.60  0.0010\n",
      "2022-07-18  1318.30  1319.15  1322.13  1312.97  0.0004\n",
      "2022-07-19  1305.12  1319.20  1319.99  1305.38 -0.0100\n",
      "2022-07-20  1313.10  1304.38  1314.22  1302.35  0.0061\n",
      "2022-07-21  1306.16  1313.70  1316.88  1306.55 -0.0053\n",
      "2022-07-22  1310.01  1306.66  1316.22  1306.22  0.0029\n",
      "2022-07-25  1311.12  1310.60  1313.97  1307.33  0.0008\n",
      "2022-07-26  1310.10  1311.47  1313.60  1306.75 -0.0008\n",
      "2022-07-27  1306.08  1311.03  1316.68  1305.74 -0.0031\n",
      "2022-07-28  1295.47  1306.37  1309.68  1296.07 -0.0081\n",
      "2022-07-29  1302.97  1296.07  1309.40  1295.55  0.0058\n",
      "2022-08-01  1307.33  1303.29  1309.99  1301.09  0.0033\n",
      "2022-08-02  1311.82  1307.74  1313.33  1304.20  0.0034\n",
      "2022-08-03  1307.82  1315.30  1315.98  1306.40 -0.0030\n",
      "2022-08-04  1309.34  1307.91  1309.48  1307.24  0.0012\n"
     ]
    }
   ],
   "source": [
    "print(currency)"
   ]
  },
  {
   "cell_type": "code",
   "execution_count": null,
   "id": "fd0f637d",
   "metadata": {},
   "outputs": [],
   "source": []
  }
 ],
 "metadata": {
  "kernelspec": {
   "display_name": "Python 3",
   "language": "python",
   "name": "python3"
  },
  "language_info": {
   "codemirror_mode": {
    "name": "ipython",
    "version": 3
   },
   "file_extension": ".py",
   "mimetype": "text/x-python",
   "name": "python",
   "nbconvert_exporter": "python",
   "pygments_lexer": "ipython3",
   "version": "3.8.8"
  }
 },
 "nbformat": 4,
 "nbformat_minor": 5
}
